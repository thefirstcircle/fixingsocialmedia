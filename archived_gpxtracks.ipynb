{
 "cells": [
  {
   "cell_type": "markdown",
   "metadata": {},
   "source": [
    "#### Disclaimer\n",
    "\n",
    "*Note: This was not part of my final project. I just put it here as an example of how I started out. See fantasymap.ipynb for narrative and details.*"
   ]
  },
  {
   "cell_type": "code",
   "execution_count": null,
   "metadata": {},
   "outputs": [],
   "source": [
    "import pandas as pd\n",
    "import requests\n",
    "from bs4 import BeautifulSoup\n",
    "from urllib.parse import urlparse, urljoin\n",
    "import os\n",
    "from datetime import datetime, timedelta\n",
    "import pytz"
   ]
  },
  {
   "cell_type": "code",
   "execution_count": null,
   "metadata": {},
   "outputs": [],
   "source": [
    "#Need to import several, since my browser has separate profiles\n",
    "\n",
    "browser_edge_personal = pd.read_csv(\"DayInTheLifeData\\BrowserHistory_2_25_24_personal.csv\")\n",
    "browser_edge_work = pd.read_csv(\"DayInTheLifeData\\BrowserHistory_2_25_24_work.csv\")"
   ]
  },
  {
   "cell_type": "code",
   "execution_count": null,
   "metadata": {},
   "outputs": [],
   "source": [
    "# Convert to DateTime in Python\n",
    "browser_edge_personal['DateTime'] = pd.to_datetime(browser_edge_personal['DateTime'])\n",
    "browser_edge_work['DateTime'] = pd.to_datetime(browser_edge_work['DateTime'])\n",
    "\n",
    "# Ensure datetime objects are timezone-aware (if not already)\n",
    "browser_edge_personal['DateTime'] = browser_edge_personal['DateTime'].dt.tz_convert('UTC')\n",
    "browser_edge_work['DateTime'] = browser_edge_work['DateTime'].dt.tz_convert('UTC')\n",
    "\n",
    "# Calculate the date threshold (2 days ago) in UTC timezone\n",
    "two_days_ago = datetime.now(pytz.utc) - timedelta(days=2)\n",
    "\n",
    "# Filter the DataFrame to include only rows less than 2 days old\n",
    "browser_edge_personal = browser_edge_personal[browser_edge_personal['DateTime'] > two_days_ago]\n",
    "browser_edge_work = browser_edge_work[browser_edge_work['DateTime'] > two_days_ago]"
   ]
  },
  {
   "cell_type": "code",
   "execution_count": null,
   "metadata": {},
   "outputs": [],
   "source": [
    "def add_bare_url_column(df, url_column_name):\n",
    "    # Function to extract domain from URL\n",
    "    def extract_domain(url):\n",
    "        parsed_url = urlparse(url)\n",
    "        return parsed_url.netloc\n",
    "\n",
    "    # Add a new column with just the bare URL (domain)\n",
    "    df['BareURL'] = df[url_column_name].apply(extract_domain)\n",
    "    return df"
   ]
  },
  {
   "cell_type": "code",
   "execution_count": null,
   "metadata": {},
   "outputs": [],
   "source": [
    "browser_edge_personal = add_bare_url_column(browser_edge_personal, 'NavigatedToUrl')\n",
    "browser_edge_work = add_bare_url_column(browser_edge_work, 'NavigatedToUrl')"
   ]
  },
  {
   "cell_type": "code",
   "execution_count": null,
   "metadata": {},
   "outputs": [],
   "source": [
    "# For gathering favicons\n",
    "\n",
    "def fetch_favicon_duckduckgo(domain):\n",
    "    # Construct the URL for fetching the favicon.ico\n",
    "    url = f\"https://icons.duckduckgo.com/ip3/{domain}.ico\"\n",
    "    try:\n",
    "        # Fetch the favicon.ico image\n",
    "        response = requests.get(url)\n",
    "        response.raise_for_status()\n",
    "        return response.content\n",
    "    except requests.exceptions.RequestException as e:\n",
    "        print(f\"Error fetching favicon for {domain}: {e}\")\n",
    "        return None\n",
    "\n",
    "# Function to fetch favicons for each domain in the DataFrame\n",
    "def fetch_favicons_df(df):\n",
    "    favicons = {}\n",
    "    for domain in df['BareURL']:\n",
    "        favicon = fetch_favicon_duckduckgo(domain)\n",
    "        favicons[domain] = favicon\n",
    "    return favicons\n",
    "\n",
    "\n"
   ]
  },
  {
   "cell_type": "code",
   "execution_count": null,
   "metadata": {},
   "outputs": [],
   "source": [
    "def fetch_favicons_df(df):\n",
    "    unique_urls = set(df['BareURL'])  # Convert to set to remove duplicates\n",
    "    favicons = {}\n",
    "    for domain in unique_urls:\n",
    "        try:\n",
    "            favicon = fetch_favicon_duckduckgo(domain)\n",
    "            favicons[domain] = favicon\n",
    "        except Exception as e:\n",
    "            print(f\"Error fetching favicon for {domain}: {e}\")\n",
    "    return favicons\n"
   ]
  },
  {
   "cell_type": "code",
   "execution_count": null,
   "metadata": {},
   "outputs": [],
   "source": [
    "import os\n",
    "\n",
    "def fetch_favicons_df(df, folder_name):\n",
    "    \"\"\"\n",
    "    Fetches favicons for unique domains in a DataFrame and saves them to a folder.\n",
    "\n",
    "    Args:\n",
    "        df (DataFrame): The DataFrame containing the 'BareURL' column with domain URLs.\n",
    "        folder_name (str): The name of the folder to save the favicons.\n",
    "\n",
    "    Returns:\n",
    "        DataFrame: The original DataFrame with a new column containing the relative paths of the saved favicons.\n",
    "    \"\"\"\n",
    "    # Create the folder if it doesn't exist\n",
    "    if not os.path.exists(folder_name):\n",
    "        os.makedirs(folder_name)\n",
    "\n",
    "    unique_urls = set(df['BareURL'])\n",
    "    favicon_paths = {}\n",
    "    for domain in unique_urls:\n",
    "        favicon = fetch_favicon_duckduckgo(domain)\n",
    "        if favicon is not None:\n",
    "            file_name = f\"{domain}_favicon.ico\"\n",
    "            file_path = os.path.join(folder_name, file_name)\n",
    "            favicon_paths[domain] = file_path\n",
    "            with open(file_path, \"wb\") as f:\n",
    "                f.write(favicon)\n",
    "            print(f\"Favicon for {domain} saved as {file_path}\")\n",
    "\n",
    "    df['FaviconPath'] = df['BareURL'].map(favicon_paths.get)\n",
    "    return df\n"
   ]
  },
  {
   "cell_type": "code",
   "execution_count": null,
   "metadata": {},
   "outputs": [],
   "source": [
    "# Gather favicons\n",
    "browser_edge_personal = fetch_favicons_df(browser_edge_personal, \"browser_edge_personal_favicons\")\n",
    "browser_edge_work = fetch_favicons_df(browser_edge_work, \"browser_edge_work_favicons\")"
   ]
  },
  {
   "cell_type": "code",
   "execution_count": null,
   "metadata": {},
   "outputs": [],
   "source": [
    "# Export - General\n",
    "browser_edge_personal.to_csv('browser_edge_personal_processed.csv', index=False)\n",
    "browser_edge_work.to_csv('browser_edge_work_processed.csv', index=False)"
   ]
  },
  {
   "cell_type": "code",
   "execution_count": null,
   "metadata": {},
   "outputs": [],
   "source": [
    "# Export for After Effects\n",
    "\n",
    "def convert_to_ae_format(df, output_file):\n",
    "    # Open the output file in write mode\n",
    "    with open(output_file, 'w') as f:\n",
    "        # Write the beginning of the script\n",
    "        f.write('var csvData = [\\n')\n",
    "        \n",
    "        # Iterate over rows in the DataFrame\n",
    "        for _, row in df.iterrows():\n",
    "            # Write each row as an object in the JavaScript array\n",
    "            f.write('    {\\n')\n",
    "            f.write(f'        DateTime: \"{row[\"DateTime\"]}\",\\n')\n",
    "            f.write(f'        NavigatedToUrl: \"{row[\"NavigatedToUrl\"]}\",\\n')\n",
    "            f.write(f'        PageTitle: \"{row[\"PageTitle\"]}\",\\n')\n",
    "            f.write(f'        BareURL: \"{row[\"BareURL\"]}\",\\n')\n",
    "            f.write(f'        FaviconPath: \"{row[\"FaviconPath\"]}\"\\n')\n",
    "            f.write('    },\\n')\n",
    "        \n",
    "        # Write the end of the script\n",
    "        f.write('];')\n",
    "\n",
    "# Example usage:\n",
    "convert_to_ae_format(browser_edge_personal, 'after_effects_script.jsx')\n"
   ]
  }
 ],
 "metadata": {
  "kernelspec": {
   "display_name": "Python 3",
   "language": "python",
   "name": "python3"
  },
  "language_info": {
   "codemirror_mode": {
    "name": "ipython",
    "version": 3
   },
   "file_extension": ".py",
   "mimetype": "text/x-python",
   "name": "python",
   "nbconvert_exporter": "python",
   "pygments_lexer": "ipython3",
   "version": "3.11.5"
  }
 },
 "nbformat": 4,
 "nbformat_minor": 2
}
